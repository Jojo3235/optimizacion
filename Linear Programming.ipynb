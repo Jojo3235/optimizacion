{
 "cells": [
  {
   "cell_type": "markdown",
   "id": "e8f3ccce",
   "metadata": {},
   "source": [
    "# Linear Programming\n",
    "##### by Jorge Almonacid\n",
    "\n",
    "\n",
    "#### Introduction\n",
    "In this notebook we'll resolve a linear programming problem with the help of the ortools library and provide a code that accepts matrix form problem inputs for a faster use.\n",
    "\n",
    "## Logistics example\n",
    "Firstly, let's get used to the library to then generalize it. In this example we'll use the pywraplp library from ortools in order to help us resolve the problem.\n",
    "\n",
    "#### Problem formulation:\n",
    "A company must ship products from two warehouses to three retail stores. The goal is to minimize the transportation cost while fulfilling store demand and not exceeding warhouse supply. We need to minimize the following problem then:\n",
    "\n",
    "#### Data\n",
    "\n",
    "$\\begin{array}{l|llll}\n",
    "\\text{From \\ To} & \\text{Store 1} & \\text{Store 2} & \\text{Store 3} & \\text{Supply}\\\\\n",
    "\\hline\n",
    "\\text{Warehouse} 1 & €4  & €6 & €9 & 100\\\\\n",
    "\\text{Warehouse} 2 & €5 & €4 & €7 & 120\\\\\n",
    "\\text{Demand} & 80 & 70 & 50 & \n",
    "\\end{array}$\n",
    "\n",
    "\n",
    "#### Constraints\n",
    "##### Supply constraints:\n",
    "$\\begin{array}{c l}\n",
    "x_{11} + x_{12} + x_{13} \\leq 100&   (\\text{Warehouse 1})\\\\\n",
    "x_{21} + x_{22} + x_{23} \\leq 120&   (\\text{Warehouse 2})\n",
    "\\end{array}\n",
    "$\n",
    "\n",
    "##### Demand constraints:\n",
    "$\\begin{array}{c l}\n",
    "x_{11} + x_{21}  = 80&   (\\text{Store 1})\\\\\n",
    "x_{12} + x_{22}  = 70&   (\\text{Store 2}) \\\\\n",
    "x_{13} + x_{23}  = 50&   (\\text{Store 3})\n",
    "\\end{array}\n",
    "$\n",
    "\n",
    "##### Non-negativity:\n",
    "$x_{ij} \\ge 0\\hspace{5mm} \\forall\\hspace{1mm} i,j$\n",
    "\n",
    "##### Objective Function:\n",
    "Minimize: $4x_{11} + 6x_{12} + 9x_{13} + 5x_{21} + 4x_{22} + 7x_{23}$\n",
    "\n",
    "\n",
    "With $x_{ij}$ being the units shipped from warehouse i to store j."
   ]
  },
  {
   "cell_type": "markdown",
   "id": "62b1d72f",
   "metadata": {},
   "source": [
    "## Code implementation\n",
    "Firstly we import the libraries that we are going to use: pywraplp from ORTools"
   ]
  },
  {
   "cell_type": "code",
   "execution_count": 49,
   "id": "eebe1f75",
   "metadata": {},
   "outputs": [],
   "source": [
    "from ortools.linear_solver import pywraplp"
   ]
  },
  {
   "cell_type": "markdown",
   "id": "553ad32d",
   "metadata": {},
   "source": [
    "Now initialize the solver with the class Solver."
   ]
  },
  {
   "cell_type": "code",
   "execution_count": 50,
   "id": "661de01d",
   "metadata": {},
   "outputs": [],
   "source": [
    "solver = pywraplp.Solver(\"Logistics: \", pywraplp.Solver.GLOP_LINEAR_PROGRAMMING)"
   ]
  },
  {
   "cell_type": "markdown",
   "id": "2ecb55fb",
   "metadata": {},
   "source": [
    "Once the solver class is created we can add the different variables and constraints associated to them. \n",
    "\n",
    "\n",
    "Firstly, to initialize the variables we use the IntVar method from the class solver, assign them a range, in our case $[0,\\infty)$, and a name, x_11, x_22, .... Afterwards, we set the restrictions with the Constraint method, there are several ways to use it, some shown in the code below, but the main point is: Setting the interval de constraint ranges, and set the coefficients associated to each of the variables previously initialized."
   ]
  },
  {
   "cell_type": "code",
   "execution_count": 51,
   "id": "5a84c727",
   "metadata": {},
   "outputs": [],
   "source": [
    "# x_11 + x_12 + x_13 <= 100\n",
    "# x_21 + x_22 + x_23 <= 120\n",
    "# x_11 + x_21 = 80\n",
    "# x_12 + x_22 = 70\n",
    "# x-13 + x_23 = 50\n",
    "# x_ij >= 0\n",
    "# min: 4x_11+6x_12+9x_13+5x_21+4x_22+7x_23\n",
    "\n",
    "# Variable initialization\n",
    "\n",
    "x_11 = solver.IntVar(0,solver.infinity(), \"x_11\")\n",
    "x_12 = solver.IntVar(0,solver.infinity(), \"x_12\")\n",
    "x_13 = solver.IntVar(0,solver.infinity(), \"x_13\")\n",
    "\n",
    "x_21 = solver.IntVar(0,solver.infinity(), \"x_21\")\n",
    "x_22 = solver.IntVar(0,solver.infinity(), \"x_22\")\n",
    "x_23 = solver.IntVar(0,solver.infinity(), \"x_23\")\n",
    "\n",
    "# Restriction definitions\n",
    "\n",
    "# Inequality constraints\n",
    "constraint1 = solver.Constraint(0,100)\n",
    "constraint1.SetCoefficient(x_11,1)\n",
    "constraint1.SetCoefficient(x_12,1)\n",
    "constraint1.SetCoefficient(x_13,1)\n",
    "\n",
    "constraint2 = solver.Constraint(0,120)\n",
    "constraint2.SetCoefficient(x_21,1)\n",
    "constraint2.SetCoefficient(x_22,1)\n",
    "constraint2.SetCoefficient(x_23,1)\n",
    "\n",
    "# Equality constraints\n",
    "solver.Add(sum([x_11, x_21])== 80)\n",
    "# solver.Add(x_12 + x_22== 70)\n",
    "solver.Add(x_13 + x_23== 50)\n",
    "\n",
    "# Same as the one commented above but with the first method\n",
    "constraint3 = solver.Constraint(70,70)\n",
    "constraint3.SetCoefficient(x_12, 1)\n",
    "constraint3.SetCoefficient(x_22, 1)"
   ]
  },
  {
   "cell_type": "markdown",
   "id": "776bee94",
   "metadata": {},
   "source": [
    "Now we define the objective function to minimize, and we just need to set the coefficients associated to each variable like before, thanks to the method Objective."
   ]
  },
  {
   "cell_type": "code",
   "execution_count": 52,
   "id": "ea700c93",
   "metadata": {},
   "outputs": [],
   "source": [
    "# Minimization function coefficient set\n",
    "\n",
    "objective = solver.Objective()\n",
    "objective.SetCoefficient(x_11, 4)\n",
    "objective.SetCoefficient(x_12, 6)\n",
    "objective.SetCoefficient(x_13, 9)\n",
    "objective.SetCoefficient(x_21, 5)\n",
    "objective.SetCoefficient(x_22, 4)\n",
    "objective.SetCoefficient(x_23, 7)\n",
    "objective.SetMinimization()"
   ]
  },
  {
   "cell_type": "markdown",
   "id": "9f723a62",
   "metadata": {},
   "source": [
    "Finally, to get the problem solution we call the Solve method and print each of the values associated to each variable and the solution for the minimization problem."
   ]
  },
  {
   "cell_type": "code",
   "execution_count": 53,
   "id": "bc7db037",
   "metadata": {},
   "outputs": [
    {
     "name": "stdout",
     "output_type": "stream",
     "text": [
      "Cost: 950.0\n",
      "x_12: 80.0\n",
      "x_13: 0.0\n",
      "x_11: 0.0\n",
      "x_21: 0.0\n",
      "x_22: 70.0\n",
      "x_23: 50.0\n"
     ]
    }
   ],
   "source": [
    "# solver and solution print\n",
    "result = solver.Solve()\n",
    "print(\"Cost:\", solver.Objective().Value())\n",
    "print(\"x_12:\", x_11.solution_value())\n",
    "print(\"x_13:\", x_12.solution_value())\n",
    "print(\"x_11:\", x_13.solution_value())\n",
    "print(\"x_21:\", x_21.solution_value())\n",
    "print(\"x_22:\", x_22.solution_value())\n",
    "print(\"x_23:\", x_23.solution_value())"
   ]
  },
  {
   "cell_type": "markdown",
   "id": "fb46d110",
   "metadata": {},
   "source": [
    "There's an alternative way to solve the problem, with the Minimize/Maximize method, where you just need to introduce the equation with the variables."
   ]
  },
  {
   "cell_type": "code",
   "execution_count": 54,
   "id": "0f60289e",
   "metadata": {},
   "outputs": [],
   "source": [
    "# solver.Minimize(4*x_11+6*x_12+9*x_13+5*x_21+4*x_22+7*x_23)"
   ]
  },
  {
   "cell_type": "markdown",
   "id": "e23e08ae",
   "metadata": {},
   "source": [
    "### Generalization\n",
    "Now that we have seen how ORTools works for linear programming optimization problems, we can do a function that, given a matrix form problem, it resolves it with the methods used earlier. "
   ]
  },
  {
   "cell_type": "markdown",
   "id": "cfa1b618",
   "metadata": {},
   "source": [
    "General formula that we try to generalize in the equation:\n",
    "- $\\textbf{Optimize}$\n",
    "$c^Tx$\n",
    "- Subject to:\n",
    "\n",
    "$\\hspace{20mm} \\begin{cases} \n",
    "Ax \\leq b \\\\ \n",
    "A_{eq}x = b_{eq} \\\\ \n",
    "x \\geq 0 \n",
    "\\end{cases}$"
   ]
  },
  {
   "cell_type": "markdown",
   "id": "a82cb85c",
   "metadata": {},
   "source": [
    "There is one main function, optimize, and an auxiliary one, get_coeffs, the latter helps us with extracting the coefficients from a list and returns them as the coefficients associated to each variable, while the former just does the process we've done before automatically, with the help of the library and dictionaries."
   ]
  },
  {
   "cell_type": "code",
   "execution_count": 55,
   "id": "a2dde70f",
   "metadata": {},
   "outputs": [],
   "source": [
    "# comparar con distinto número de almacenes, 1, 2, combinaciones de los 2, suponer que hay 1 tercer almacén\n",
    "# Automatizar con una funcion que reciba las matrices de datos y devuelva el resultado\n",
    "\n",
    "\n",
    "def get_coeffs(c):\n",
    "    vars = {}\n",
    "    s= 0\n",
    "    for i in range(0,len(c)):\n",
    "        vars[\"x{0}\".format(s)] = c[i]\n",
    "        s += 1\n",
    "    return vars\n",
    "\n",
    "\n",
    "def optimize(c, A_ub, b_ub, A_eq=None, b_eq=None, minmax = 0):\n",
    "    \"\"\"\n",
    "    Optimizes a set problem given the constraints and coefficients from the optimization function in matrix form.\n",
    "    Assuming discrete variables and every variable is equal or greater than 0.\n",
    "\n",
    "    Args:\n",
    "        c (list): Coefficients of the function to minimize\n",
    "        A_ub (list): Coefficients for the lhs of the inequality constraints\n",
    "        b_ub (list): Coefficients for the rhs of the inequality constraints\n",
    "        A_eq (list): Coefficients for the lhs of the equality constraints\n",
    "        b_eq (list): Coefficients for the rhs of the equality constraints\n",
    "        minmax (int): Determines whether the problem is minimization or maximization (0 min, 1 max)\n",
    "\n",
    "    Returns:\n",
    "        sol (float): Solution to the optimization problem\n",
    "        solution_dictionary (dict): Dictionary with the solution values associated to each variable used\n",
    "    \"\"\"\n",
    "\n",
    "    # Initialization of the model and the variables\n",
    "    solver = pywraplp.Solver(\"Optimization problem\", pywraplp.Solver.GLOP_LINEAR_PROGRAMMING)\n",
    "    \n",
    "    # Setting the problem as a minimization in case the one introduced is maximization problem by changing the sign\n",
    "    if minmax == 1:\n",
    "        c = [-elem for elem in c]\n",
    "    \n",
    "    # We get the coefficients from c and save the keys in a list\n",
    "    vars = get_coeffs(c)\n",
    "    intvar = list(vars.keys())\n",
    "    intvars = {}\n",
    "    \n",
    "    # Initialize all the needed variables from 0 to ∞ and save them in a dictionary\n",
    "    for i in range(len(vars)):\n",
    "        intvars[\"x{0}\".format(i)] = solver.IntVar(0,solver.infinity(), \"{0}\".format(intvar[i]))\n",
    "  \n",
    "    # Upper bound constraints\n",
    "    constraints_ub = {}\n",
    "    for i in range(len(A_ub)):\n",
    "        constraints_ub[\"constraint{0}\".format(i)] = solver.Constraint(0,b_ub[i])\n",
    "        setconstraint = constraints_ub[list(constraints_ub.keys())[i]]\n",
    "        for j in range(len(A_ub[i])):\n",
    "            if A_ub != 0:\n",
    "                setconstraint.SetCoefficient(intvars[list(intvars.keys())[j]],A_ub[i][j])\n",
    "    \n",
    "    # Equality constraints if we have\n",
    "    if A_eq is not None:\n",
    "        constraints_eq = {}\n",
    "        for i in range(len(A_eq)):\n",
    "            constraints_eq[\"constraint{0}\".format(i)] = solver.Constraint(b_eq[i],b_eq[i])\n",
    "            setconstraint = constraints_eq[list(constraints_eq.keys())[i]]\n",
    "            for j in range(len(A_eq[i])):\n",
    "                if A_eq != 0:\n",
    "                    setconstraint.SetCoefficient(intvars[list(intvars.keys())[j]],A_eq[i][j])\n",
    "    \n",
    "    # Set objective function coefficients\n",
    "    objective = solver.Objective()\n",
    "    for i in range(len(vars)):\n",
    "        objective.SetCoefficient(intvars[list(intvars.keys())[i]], c[i])\n",
    "    \n",
    "    # Show results\n",
    "    print(\"Optimization completed\")\n",
    "\n",
    "    solver.Solve()\n",
    "    sol = solver.Objective().Value()\n",
    "    if minmax == 1:\n",
    "        sol = -sol\n",
    "        \n",
    "    print(f\"Function optimization value: {sol}\")\n",
    "    for i in range(len(vars)):\n",
    "        print(f\"{list(intvars.keys())[i]} = {round(intvars[list(intvars.keys())[i]].solution_value())}\")\n",
    "    \n",
    "    solution_dictionary = {}\n",
    "    for i in range(len(c)):\n",
    "        solution_dictionary = {**solution_dictionary, f\"{list(intvars.keys())[i]}\": round(intvars[list(intvars.keys())[i]].solution_value())}\n",
    "\n",
    "    return sol, solution_dictionary"
   ]
  },
  {
   "cell_type": "markdown",
   "id": "da38ee26",
   "metadata": {},
   "source": [
    "Now we test if our program works, with the following set up:"
   ]
  },
  {
   "cell_type": "code",
   "execution_count": 56,
   "id": "eb091915",
   "metadata": {},
   "outputs": [
    {
     "name": "stdout",
     "output_type": "stream",
     "text": [
      "Optimization completed\n",
      "Function optimization value: 32000.0\n",
      "x0 = 80\n",
      "x1 = 20\n"
     ]
    }
   ],
   "source": [
    "\n",
    "c = [300,400]\n",
    "A_ub = [[1,1],[120,200], [10,20]]\n",
    "# A_eq = [[1,1]]\n",
    "b_ub = [100,20000,1200]\n",
    "# b_eq = [2000]\n",
    "\n",
    "Optimized_cost, products = optimize(c,A_ub,b_ub,minmax=1) "
   ]
  }
 ],
 "metadata": {
  "kernelspec": {
   "display_name": ".venv",
   "language": "python",
   "name": "python3"
  },
  "language_info": {
   "codemirror_mode": {
    "name": "ipython",
    "version": 3
   },
   "file_extension": ".py",
   "mimetype": "text/x-python",
   "name": "python",
   "nbconvert_exporter": "python",
   "pygments_lexer": "ipython3",
   "version": "3.11.9"
  }
 },
 "nbformat": 4,
 "nbformat_minor": 5
}
