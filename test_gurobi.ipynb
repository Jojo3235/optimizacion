{
 "cells": [
  {
   "cell_type": "code",
   "execution_count": 7,
   "id": "c901a9b3",
   "metadata": {},
   "outputs": [],
   "source": [
    "# x_11 + x_12 + x_13 <= 100\n",
    "# x_21 + x_22 + x_23 <= 120\n",
    "# x_11 + x_21 = 80\n",
    "# x_12 + x_22 = 70\n",
    "# x-13 + x_23 = 50\n",
    "# x_ij >= 0\n",
    "# min: 4x_11+6x_12+9x_13+5x_21+4x_22+7x_23"
   ]
  },
  {
   "cell_type": "code",
   "execution_count": 8,
   "id": "85ad5c6e",
   "metadata": {},
   "outputs": [
    {
     "data": {
      "text/plain": [
       "<gurobi.Constr *Awaiting Model Update*>"
      ]
     },
     "execution_count": 8,
     "metadata": {},
     "output_type": "execute_result"
    }
   ],
   "source": [
    "from gurobipy import Model, GRB\n",
    "model = Model('Logistics')\n",
    "x_11 = model.addVar(vtype=GRB.INTEGER)\n",
    "x_12 = model.addVar(vtype=GRB.INTEGER)\n",
    "x_13 = model.addVar(vtype=GRB.INTEGER)\n",
    "x_21 = model.addVar(vtype=GRB.INTEGER)\n",
    "x_22 = model.addVar(vtype=GRB.INTEGER)\n",
    "x_23 = model.addVar(vtype=GRB.INTEGER)\n",
    "\n",
    "model.addConstr(x_11 + x_12 + x_13 <= 100)\n",
    "model.addConstr(x_21 + x_22 + x_23 <= 120)\n",
    "\n",
    "model.addConstr(x_11 >= 0)\n",
    "model.addConstr(x_12 >= 0)\n",
    "model.addConstr(x_13 >= 0)\n",
    "model.addConstr(x_21 >= 0)\n",
    "model.addConstr(x_22 >= 0)\n",
    "model.addConstr(x_23 >= 0)\n",
    "\n",
    "model.addConstr(x_11 + x_21 == 80)\n",
    "model.addConstr(x_12 + x_22 == 70)\n",
    "model.addConstr(x_13 + x_23 == 50)"
   ]
  },
  {
   "cell_type": "code",
   "execution_count": 9,
   "id": "9f6ad6d4",
   "metadata": {},
   "outputs": [],
   "source": [
    "model.setObjective(4*x_11+6*x_12+9*x_13+5*x_21+4*x_22+7*x_23, GRB.MINIMIZE)\n",
    "model.update()"
   ]
  },
  {
   "cell_type": "code",
   "execution_count": 10,
   "id": "63eb8f16",
   "metadata": {},
   "outputs": [
    {
     "name": "stdout",
     "output_type": "stream",
     "text": [
      "Statistics for model 'Logistics':\n",
      "  Problem type                : MIP\n",
      "  Linear constraint matrix    : 11 rows, 6 columns, 18 nonzeros\n",
      "  Variable types              : 0 continuous, 6 integer (0 binary)\n",
      "  Matrix range                : [1e+00, 1e+00]\n",
      "  Objective range             : [4e+00, 9e+00]\n",
      "  Bounds range                : [0e+00, 0e+00]\n",
      "  RHS range                   : [5e+01, 1e+02]\n"
     ]
    }
   ],
   "source": [
    "model.printStats()"
   ]
  },
  {
   "cell_type": "code",
   "execution_count": 11,
   "id": "6d56b7d5",
   "metadata": {},
   "outputs": [
    {
     "name": "stdout",
     "output_type": "stream",
     "text": [
      "Gurobi Optimizer version 12.0.3 build v12.0.3rc0 (win64 - Windows 10.0 (19045.2))\n",
      "\n",
      "CPU model: AMD Ryzen 5 4600H with Radeon Graphics, instruction set [SSE2|AVX|AVX2]\n",
      "Thread count: 6 physical cores, 12 logical processors, using up to 12 threads\n",
      "\n",
      "Optimize a model with 11 rows, 6 columns and 18 nonzeros\n",
      "Model fingerprint: 0x904b2bf3\n",
      "Variable types: 0 continuous, 6 integer (0 binary)\n",
      "Coefficient statistics:\n",
      "  Matrix range     [1e+00, 1e+00]\n",
      "  Objective range  [4e+00, 9e+00]\n",
      "  Bounds range     [0e+00, 0e+00]\n",
      "  RHS range        [5e+01, 1e+02]\n",
      "Presolve removed 11 rows and 6 columns\n",
      "Presolve time: 0.00s\n",
      "Presolve: All rows and columns removed\n",
      "\n",
      "Explored 0 nodes (0 simplex iterations) in 0.01 seconds (0.00 work units)\n",
      "Thread count was 1 (of 12 available processors)\n",
      "\n",
      "Solution count 1: 950 \n",
      "\n",
      "Optimal solution found (tolerance 1.00e-04)\n",
      "Best objective 9.500000000000e+02, best bound 9.500000000000e+02, gap 0.0000%\n"
     ]
    }
   ],
   "source": [
    "model.optimize()\n",
    "solution = model.getAttr(\"X\")"
   ]
  },
  {
   "cell_type": "code",
   "execution_count": 12,
   "id": "c61b6099",
   "metadata": {},
   "outputs": [
    {
     "name": "stdout",
     "output_type": "stream",
     "text": [
      "[80.0, 0.0, -0.0, 0.0, 70.0, 50.0]\n"
     ]
    }
   ],
   "source": [
    "print(solution)"
   ]
  },
  {
   "cell_type": "code",
   "execution_count": null,
   "id": "f82d7d42",
   "metadata": {},
   "outputs": [],
   "source": []
  }
 ],
 "metadata": {
  "kernelspec": {
   "display_name": ".venv",
   "language": "python",
   "name": "python3"
  },
  "language_info": {
   "codemirror_mode": {
    "name": "ipython",
    "version": 3
   },
   "file_extension": ".py",
   "mimetype": "text/x-python",
   "name": "python",
   "nbconvert_exporter": "python",
   "pygments_lexer": "ipython3",
   "version": "3.12.6"
  }
 },
 "nbformat": 4,
 "nbformat_minor": 5
}
