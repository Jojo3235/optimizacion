{
 "cells": [
  {
   "cell_type": "code",
   "execution_count": 3,
   "id": "52ca28be",
   "metadata": {},
   "outputs": [],
   "source": [
    "import scipy, numpy as np"
   ]
  },
  {
   "cell_type": "code",
   "execution_count": 6,
   "id": "fc3706ae",
   "metadata": {},
   "outputs": [
    {
     "name": "stderr",
     "output_type": "stream",
     "text": [
      "C:\\Users\\joral\\AppData\\Local\\Temp\\ipykernel_19876\\1046923028.py:15: DeprecationWarning: `method='simplex'` is deprecated and will be removed in SciPy 1.11.0. Please use one of the HiGHS solvers (e.g. `method='highs'`) in new code.\n",
      "  scipy.optimize.linprog(c = c, A_ub = A_ub, b_ub= b_ub, A_eq = A_eq, b_eq = b_eq, bounds=(0,None), method=\"simplex\")\n"
     ]
    },
    {
     "data": {
      "text/plain": [
       " message: Optimization terminated successfully.\n",
       " success: True\n",
       "  status: 0\n",
       "     fun: 950.0\n",
       "       x: [ 8.000e+01  0.000e+00  0.000e+00  0.000e+00  7.000e+01\n",
       "            5.000e+01]\n",
       "     nit: 9"
      ]
     },
     "execution_count": 6,
     "metadata": {},
     "output_type": "execute_result"
    }
   ],
   "source": [
    "# x_11 + x_12 + x_13 <= 100\n",
    "# x_21 + x_22 + x_23 <= 120\n",
    "# x_11 + x_21 = 80\n",
    "# x_12 + x_22 = 70\n",
    "# x-13 + x_23 = 50\n",
    "# x_ij >= 0\n",
    "# min: 4x_11+6x_12+9x_13+5x_21+4x_22+7x_23\n",
    "\n",
    "c = [[4],[6],[9],[5],[4],[7]]\n",
    "A_ub = [[1,1,1,0,0,0], [0,0,0,1,1,1]]\n",
    "A_eq = [[1,0,0,1,0,0],[0,1,0,0,1,0],[0,0,1,0,0,1]]\n",
    "b_ub = [[100],[120]]\n",
    "b_eq = [[80],[70],[50]]\n",
    "\n",
    "scipy.optimize.linprog(c = c, A_ub = A_ub, b_ub= b_ub, A_eq = A_eq, b_eq = b_eq, bounds=(0,None), method=\"simplex\")"
   ]
  },
  {
   "cell_type": "code",
   "execution_count": null,
   "id": "c4d7c779",
   "metadata": {},
   "outputs": [],
   "source": []
  }
 ],
 "metadata": {
  "kernelspec": {
   "display_name": ".venv",
   "language": "python",
   "name": "python3"
  },
  "language_info": {
   "codemirror_mode": {
    "name": "ipython",
    "version": 3
   },
   "file_extension": ".py",
   "mimetype": "text/x-python",
   "name": "python",
   "nbconvert_exporter": "python",
   "pygments_lexer": "ipython3",
   "version": "3.12.6"
  }
 },
 "nbformat": 4,
 "nbformat_minor": 5
}
