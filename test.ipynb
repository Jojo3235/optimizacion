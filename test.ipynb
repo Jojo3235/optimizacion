{
 "cells": [
  {
   "cell_type": "code",
   "execution_count": 1,
   "id": "eebe1f75",
   "metadata": {},
   "outputs": [],
   "source": [
    "from ortools.linear_solver import pywraplp"
   ]
  },
  {
   "cell_type": "code",
   "execution_count": 2,
   "id": "661de01d",
   "metadata": {},
   "outputs": [],
   "source": [
    "solver = pywraplp.Solver(\"Logistics: \", pywraplp.Solver.GLOP_LINEAR_PROGRAMMING)"
   ]
  },
  {
   "cell_type": "code",
   "execution_count": 3,
   "id": "5a84c727",
   "metadata": {},
   "outputs": [
    {
     "data": {
      "text/plain": [
       "<ortools.linear_solver.pywraplp.Constraint; proxy of <Swig Object of type 'operations_research::MPConstraint *' at 0x000001BBD16C7750> >"
      ]
     },
     "execution_count": 3,
     "metadata": {},
     "output_type": "execute_result"
    }
   ],
   "source": [
    "# x_11 + x_12 + x_13 <= 100\n",
    "# x_21 + x_22 + x_23 <= 120\n",
    "# x_11 + x_21 = 80\n",
    "# x_12 + x_22 = 70\n",
    "# x-13 + x_23 = 50\n",
    "# x_ij >= 0\n",
    "# min: 4x_11+6x_12+9x_13+5x_21+4x_22+7x_23\n",
    "\n",
    "x_11 = solver.IntVar(0,solver.infinity(), \"x_11\")\n",
    "x_12 = solver.IntVar(0,solver.infinity(), \"x_12\")\n",
    "x_13 = solver.IntVar(0,solver.infinity(), \"x_13\")\n",
    "\n",
    "x_21 = solver.IntVar(0,solver.infinity(), \"x_21\")\n",
    "x_22 = solver.IntVar(0,solver.infinity(), \"x_22\")\n",
    "x_23 = solver.IntVar(0,solver.infinity(), \"x_23\")\n",
    "\n",
    "\n",
    "constraint1 = solver.Constraint(0,100)\n",
    "constraint1.SetCoefficient(x_11,1)\n",
    "constraint1.SetCoefficient(x_12,1)\n",
    "constraint1.SetCoefficient(x_13,1)\n",
    "\n",
    "constraint1 = solver.Constraint(0,120)\n",
    "constraint1.SetCoefficient(x_21,1)\n",
    "constraint1.SetCoefficient(x_22,1)\n",
    "constraint1.SetCoefficient(x_23,1)\n",
    "\n",
    "solver.Add(x_11 == 80 - x_21)\n",
    "solver.Add(x_12 == 70 - x_22)\n",
    "solver.Add(x_13 == 50 - x_23)\n"
   ]
  },
  {
   "cell_type": "code",
   "execution_count": 4,
   "id": "ea700c93",
   "metadata": {},
   "outputs": [],
   "source": [
    "objective = solver.Objective()\n",
    "objective.SetCoefficient(x_11, 4)\n",
    "objective.SetCoefficient(x_12, 6)\n",
    "objective.SetCoefficient(x_13, 9)\n",
    "objective.SetCoefficient(x_21, 5)\n",
    "objective.SetCoefficient(x_22, 4)\n",
    "objective.SetCoefficient(x_23, 7)\n",
    "objective.SetMinimization()"
   ]
  },
  {
   "cell_type": "code",
   "execution_count": 5,
   "id": "bc7db037",
   "metadata": {},
   "outputs": [
    {
     "name": "stdout",
     "output_type": "stream",
     "text": [
      "80.0\n",
      "0.0\n",
      "0.0\n",
      "0.0\n",
      "70.0\n",
      "50.0\n"
     ]
    }
   ],
   "source": [
    "result = solver.Solve()\n",
    "print(x_11.solution_value())\n",
    "print(x_12.solution_value())\n",
    "print(x_13.solution_value())\n",
    "print(x_21.solution_value())\n",
    "print(x_22.solution_value())\n",
    "print(x_23.solution_value())"
   ]
  },
  {
   "cell_type": "code",
   "execution_count": 6,
   "id": "0f60289e",
   "metadata": {},
   "outputs": [],
   "source": [
    "\n",
    "\n",
    "# constraint1 = solver.Constraint(80,80)\n",
    "# constraint1.SetCoefficient(x_11,1)\n",
    "# constraint1.SetCoefficient(x_21,1)\n",
    "# \n",
    "# constraint2 = solver.Constraint(70,70)\n",
    "# constraint2.SetCoefficient(x_12,1)\n",
    "# constraint2.SetCoefficient(x_22,1)\n",
    "# \n",
    "# constraint3 = solver.Constraint(50,50)\n",
    "# constraint3.SetCoefficient(x_13,1)\n",
    "# constraint3.SetCoefficient(x_23,1)\n",
    "\n",
    "\n",
    "# solver.Minimize(4*x_11+6*x_12+9*x_13+5*x_21+4*x_22+7*x_23)"
   ]
  },
  {
   "cell_type": "code",
   "execution_count": 7,
   "id": "a69b198f",
   "metadata": {},
   "outputs": [
    {
     "name": "stdout",
     "output_type": "stream",
     "text": [
      "Cost: 950.0\n",
      "x_12: 80.0\n",
      "x_13: 0.0\n",
      "x_11: 0.0\n",
      "x_21: 0.0\n",
      "x_22: 70.0\n",
      "x_23: 50.0\n"
     ]
    }
   ],
   "source": [
    "sol = solver.Solve()\n",
    "\n",
    "print(\"Cost:\", solver.Objective().Value())\n",
    "print(\"x_12:\", x_11.solution_value())\n",
    "print(\"x_13:\", x_12.solution_value())\n",
    "print(\"x_11:\", x_13.solution_value())\n",
    "print(\"x_21:\", x_21.solution_value())\n",
    "print(\"x_22:\", x_22.solution_value())\n",
    "print(\"x_23:\", x_23.solution_value())"
   ]
  },
  {
   "cell_type": "code",
   "execution_count": null,
   "id": "a2dde70f",
   "metadata": {},
   "outputs": [],
   "source": [
    "# comparar con distinto número de almacenes, 1, 2, 3, combinaciones de los 3\n",
    "# Automatizar con una funcion que reciba las matrices de datos y devuelva el resultado"
   ]
  }
 ],
 "metadata": {
  "kernelspec": {
   "display_name": ".venv",
   "language": "python",
   "name": "python3"
  },
  "language_info": {
   "codemirror_mode": {
    "name": "ipython",
    "version": 3
   },
   "file_extension": ".py",
   "mimetype": "text/x-python",
   "name": "python",
   "nbconvert_exporter": "python",
   "pygments_lexer": "ipython3",
   "version": "3.12.6"
  }
 },
 "nbformat": 4,
 "nbformat_minor": 5
}
