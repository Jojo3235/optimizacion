{
 "cells": [
  {
   "cell_type": "code",
   "execution_count": 320,
   "id": "eebe1f75",
   "metadata": {},
   "outputs": [],
   "source": [
    "from ortools.linear_solver import pywraplp"
   ]
  },
  {
   "cell_type": "code",
   "execution_count": 321,
   "id": "661de01d",
   "metadata": {},
   "outputs": [],
   "source": [
    "solver = pywraplp.Solver(\"Logistics: \", pywraplp.Solver.GLOP_LINEAR_PROGRAMMING)"
   ]
  },
  {
   "cell_type": "code",
   "execution_count": 322,
   "id": "5a84c727",
   "metadata": {},
   "outputs": [
    {
     "name": "stdout",
     "output_type": "stream",
     "text": [
      "{'x_12': x_12, 'x_22': x_22}\n",
      "[x_12, x_22]\n",
      "(x_12 + x_22)\n"
     ]
    }
   ],
   "source": [
    "# x_11 + x_12 + x_13 <= 100\n",
    "# x_21 + x_22 + x_23 <= 120\n",
    "# x_11 + x_21 = 80\n",
    "# x_12 + x_22 = 70\n",
    "# x-13 + x_23 = 50\n",
    "# x_ij >= 0\n",
    "# min: 4x_11+6x_12+9x_13+5x_21+4x_22+7x_23\n",
    "\n",
    "x_11 = solver.IntVar(0,solver.infinity(), \"x_11\")\n",
    "x_12 = solver.IntVar(0,solver.infinity(), \"x_12\")\n",
    "x_13 = solver.IntVar(0,solver.infinity(), \"x_13\")\n",
    "\n",
    "x_21 = solver.IntVar(0,solver.infinity(), \"x_21\")\n",
    "x_22 = solver.IntVar(0,solver.infinity(), \"x_22\")\n",
    "x_23 = solver.IntVar(0,solver.infinity(), \"x_23\")\n",
    "\n",
    "\n",
    "constraint1 = solver.Constraint(0,100)\n",
    "constraint1.SetCoefficient(x_11,1)\n",
    "constraint1.SetCoefficient(x_12,1)\n",
    "constraint1.SetCoefficient(x_13,1)\n",
    "\n",
    "constraint2 = solver.Constraint(0,120)\n",
    "constraint2.SetCoefficient(x_21,1)\n",
    "constraint2.SetCoefficient(x_22,1)\n",
    "constraint2.SetCoefficient(x_23,1)\n",
    "\n",
    "solver.Add(sum([x_11, x_21])== 80)\n",
    "# solver.Add(x_12 + x_22== 70)\n",
    "solver.Add(x_13 + x_23== 50)\n",
    "\n",
    "constraint3 = solver.Constraint(70,70)\n",
    "constraint3.SetCoefficient(x_12, 1)\n",
    "constraint3.SetCoefficient(x_22, 1)\n",
    "\n",
    "\n",
    "d = {\"x_12\": x_12, \"x_22\": x_22}\n",
    "\n",
    "print(d)\n",
    "\n",
    "obj = [d[list(d.keys())[i]] for i in range(len(d.keys()))]\n",
    "import numpy as np\n",
    "print(obj)\n",
    "print(np.sum(obj))\n",
    "# l = sum([x_12, x_22])\n",
    "# solver.Add(l == 70)"
   ]
  },
  {
   "cell_type": "code",
   "execution_count": 323,
   "id": "ea700c93",
   "metadata": {},
   "outputs": [],
   "source": [
    "objective = solver.Objective()\n",
    "objective.SetCoefficient(x_11, 4)\n",
    "objective.SetCoefficient(x_12, 6)\n",
    "objective.SetCoefficient(x_13, 9)\n",
    "objective.SetCoefficient(x_21, 5)\n",
    "objective.SetCoefficient(x_22, 4)\n",
    "objective.SetCoefficient(x_23, 7)\n",
    "objective.SetMinimization()"
   ]
  },
  {
   "cell_type": "code",
   "execution_count": 324,
   "id": "bc7db037",
   "metadata": {},
   "outputs": [
    {
     "name": "stdout",
     "output_type": "stream",
     "text": [
      "80.0\n",
      "0.0\n",
      "0.0\n",
      "0.0\n",
      "70.0\n",
      "50.0\n"
     ]
    }
   ],
   "source": [
    "result = solver.Solve()\n",
    "print(x_11.solution_value())\n",
    "print(x_12.solution_value())\n",
    "print(x_13.solution_value())\n",
    "print(x_21.solution_value())\n",
    "print(x_22.solution_value())\n",
    "print(x_23.solution_value())"
   ]
  },
  {
   "cell_type": "code",
   "execution_count": 325,
   "id": "0f60289e",
   "metadata": {},
   "outputs": [],
   "source": [
    "\n",
    "\n",
    "# constraint1 = solver.Constraint(80,80)\n",
    "# constraint1.SetCoefficient(x_11,1)\n",
    "# constraint1.SetCoefficient(x_21,1)\n",
    "# \n",
    "# constraint2 = solver.Constraint(70,70)\n",
    "# constraint2.SetCoefficient(x_12,1)\n",
    "# constraint2.SetCoefficient(x_22,1)\n",
    "# \n",
    "# constraint3 = solver.Constraint(50,50)\n",
    "# constraint3.SetCoefficient(x_13,1)\n",
    "# constraint3.SetCoefficient(x_23,1)\n",
    "\n",
    "\n",
    "# solver.Minimize(4*x_11+6*x_12+9*x_13+5*x_21+4*x_22+7*x_23)"
   ]
  },
  {
   "cell_type": "code",
   "execution_count": 326,
   "id": "a69b198f",
   "metadata": {},
   "outputs": [
    {
     "name": "stdout",
     "output_type": "stream",
     "text": [
      "Cost: 950.0\n",
      "x_12: 80.0\n",
      "x_13: 0.0\n",
      "x_11: 0.0\n",
      "x_21: 0.0\n",
      "x_22: 70.0\n",
      "x_23: 50.0\n"
     ]
    }
   ],
   "source": [
    "sol = solver.Solve()\n",
    "\n",
    "print(\"Cost:\", solver.Objective().Value())\n",
    "print(\"x_12:\", x_11.solution_value())\n",
    "print(\"x_13:\", x_12.solution_value())\n",
    "print(\"x_11:\", x_13.solution_value())\n",
    "print(\"x_21:\", x_21.solution_value())\n",
    "print(\"x_22:\", x_22.solution_value())\n",
    "print(\"x_23:\", x_23.solution_value())"
   ]
  },
  {
   "cell_type": "code",
   "execution_count": 333,
   "id": "a2dde70f",
   "metadata": {},
   "outputs": [
    {
     "name": "stdout",
     "output_type": "stream",
     "text": [
      "['x0', 'x1']\n",
      "<class 'ortools.linear_solver.pywraplp.Variable'>\n",
      "Optimization completed\n",
      "Function optimization value: 32000.0\n",
      "x0 = 80\n",
      "x1 = 20\n"
     ]
    }
   ],
   "source": [
    "# comparar con distinto número de almacenes, 1, 2, combinaciones de los 2, suponer que hay 1 tercer almacén\n",
    "# Automatizar con una funcion que reciba las matrices de datos y devuelva el resultado\n",
    "import numpy as np\n",
    "\n",
    "\n",
    "def get_coeffs(c):\n",
    "    vars = {}\n",
    "    s= 0\n",
    "    for i in range(0,len(c)):\n",
    "        vars[\"x{0}\".format(s)] = c[i]\n",
    "        s += 1\n",
    "    return vars\n",
    "\n",
    "\n",
    "def optimize(c, A_ub, b_ub, A_eq=None, b_eq=None, minmax = 0):\n",
    "    \"\"\"\n",
    "    Optimizes a set problem given the constraints, assuming discrete variables and every variable is equal or greater than 1.\n",
    "\n",
    "    Args:\n",
    "        c (list): Coefficients of the function to minimize\n",
    "        A1 (list): Coefficients for the lhs of the inequality constraints\n",
    "        b1 (list): Coefficients for the rhs of the inequality constraints\n",
    "        A2 (list): Coefficients for the lhs of the equality constraints\n",
    "        b2 (list): Coefficients for the rhs of the equality constraints\n",
    "\n",
    "    Returns:\n",
    "        optimum (int): Optimized cost of the function\n",
    "        x (list): each value of the variables used on the problem\n",
    "    \"\"\"\n",
    "\n",
    "    # Initialization of the model and the variables\n",
    "    solver = pywraplp.Solver(\"Optimization problem\", pywraplp.Solver.GLOP_LINEAR_PROGRAMMING)\n",
    "    if minmax == 1:\n",
    "        c = [-elem for elem in c]\n",
    "        \n",
    "\n",
    "    else:\n",
    "        pass\n",
    "\n",
    "    vars = get_coeffs(c)\n",
    "    intvar = list(vars.keys())\n",
    "    intvars = {}\n",
    "    print(intvar)\n",
    "    for i in range(len(vars)):\n",
    "        intvars[\"x{0}\".format(i)] = solver.IntVar(0,solver.infinity(), \"{0}\".format(intvar[i]))\n",
    "    print(type(intvars[list(intvars.keys())[1]]))    \n",
    "    # Upper bound constraints\n",
    "    constraints_ub = {}\n",
    "    for i in range(len(A_ub)):\n",
    "        constraints_ub[\"constraint{0}\".format(i)] = solver.Constraint(0,b_ub[i])\n",
    "        setconstraint = constraints_ub[list(constraints_ub.keys())[i]]\n",
    "        for j in range(len(A_ub[i])):\n",
    "            if A_ub != 0:\n",
    "                setconstraint.SetCoefficient(intvars[list(intvars.keys())[j]],A_ub[i][j])\n",
    "    \n",
    "    # Equality constraints \n",
    "    if A_eq is None:\n",
    "        pass\n",
    "    else:\n",
    "        constraints_eq = {}\n",
    "        for i in range(len(A_eq)):\n",
    "            constraints_eq[\"constraint{0}\".format(i)] = solver.Constraint(b_eq[i],b_eq[i])\n",
    "            setconstraint = constraints_eq[list(constraints_eq.keys())[i]]\n",
    "            for j in range(len(A_eq[i])):\n",
    "                if A_eq != 0:\n",
    "                    setconstraint.SetCoefficient(intvars[list(intvars.keys())[j]],A_eq[i][j])\n",
    "    \n",
    "    # Set objective function coefficients\n",
    "    objective = solver.Objective()\n",
    "    for i in range(len(vars)):\n",
    "        objective.SetCoefficient(intvars[list(intvars.keys())[i]], c[i])\n",
    "    \n",
    "    # Show results\n",
    "    print(\"Optimization completed\")\n",
    "\n",
    "    result = solver.Solve()\n",
    "    sol = solver.Objective().Value()\n",
    "    if minmax == 1:\n",
    "        sol = -sol\n",
    "        \n",
    "    print(f\"Function optimization value: {sol}\")\n",
    "    for i in range(len(vars)):\n",
    "        print(f\"{list(intvars.keys())[i]} = {round(intvars[list(intvars.keys())[i]].solution_value())}\")\n",
    "    \n",
    "    solution_dictionary = {}\n",
    "    for i in range(len(c)):\n",
    "        solution_dictionary = {**solution_dictionary, f\"{list(intvars.keys())[i]}\": round(intvars[list(intvars.keys())[i]].solution_value())}\n",
    "\n",
    "    return sol, solution_dictionary\n",
    "\n",
    "c = [300,400]\n",
    "A_ub = [[1,1],[120,200], [10,20]]\n",
    "# A_eq = [[1,1]]\n",
    "b_ub = [100,20000,1200]\n",
    "# b_eq = [2000]\n",
    "\n",
    "Optimized_cost, products = optimize(c,A_ub,b_ub,minmax=1)"
   ]
  },
  {
   "cell_type": "code",
   "execution_count": 334,
   "id": "eb091915",
   "metadata": {},
   "outputs": [
    {
     "name": "stdout",
     "output_type": "stream",
     "text": [
      "32000.0\n",
      "{'x0': 80, 'x1': 20}\n"
     ]
    }
   ],
   "source": [
    "print(Optimized_cost)\n",
    "print(products)"
   ]
  }
 ],
 "metadata": {
  "kernelspec": {
   "display_name": ".venv",
   "language": "python",
   "name": "python3"
  },
  "language_info": {
   "codemirror_mode": {
    "name": "ipython",
    "version": 3
   },
   "file_extension": ".py",
   "mimetype": "text/x-python",
   "name": "python",
   "nbconvert_exporter": "python",
   "pygments_lexer": "ipython3",
   "version": "3.12.6"
  }
 },
 "nbformat": 4,
 "nbformat_minor": 5
}
